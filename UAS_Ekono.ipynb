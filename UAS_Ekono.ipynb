{
  "cells": [
    {
      "cell_type": "markdown",
      "metadata": {
        "id": "view-in-github",
        "colab_type": "text"
      },
      "source": [
        "<a href=\"https://colab.research.google.com/github/Rido843/Basic-Python-Programming-for-Data-Science/blob/main/UAS_Ekono.ipynb\" target=\"_parent\"><img src=\"https://colab.research.google.com/assets/colab-badge.svg\" alt=\"Open In Colab\"/></a>"
      ]
    },
    {
      "cell_type": "code",
      "execution_count": null,
      "metadata": {
        "colab": {
          "base_uri": "https://localhost:8080/"
        },
        "id": "twU4AFdtbfjC",
        "outputId": "bf89687b-9c66-40db-f977-558e4a6dbc62"
      },
      "outputs": [
        {
          "output_type": "stream",
          "name": "stderr",
          "text": [
            "/usr/local/lib/python3.7/dist-packages/statsmodels/tools/_testing.py:19: FutureWarning: pandas.util.testing is deprecated. Use the functions in the public API at pandas.testing instead.\n",
            "  import pandas.util.testing as tm\n"
          ]
        }
      ],
      "source": [
        "import pandas as pd\n",
        "import numpy as np\n",
        "import statsmodels.api as sm\n",
        "from statsmodels.sandbox.regression.gmm import IV2SLS\n",
        "from __future__ import division\n",
        "import seaborn as sns\n",
        "\n",
        "%matplotlib inline\n",
        "import matplotlib.pylab as plt\n",
        "from matplotlib.pylab import rcParams\n",
        "rcParams['figure.figsize'] = 18.5, 10.5\n",
        "\n",
        "def print_resids(preds, resids):\n",
        "    ax = sns.regplot(preds, resids);\n",
        "    ax.set(xlabel = 'Predicted values', ylabel = 'errors', title = 'Predicted values vs. Errors')\n",
        "    plt.show();"
      ]
    },
    {
      "cell_type": "code",
      "execution_count": null,
      "metadata": {
        "colab": {
          "base_uri": "https://localhost:8080/"
        },
        "id": "bq3nnJCcbh97",
        "outputId": "aba43182-a573-4721-e105-09ce8bcde23d"
      },
      "outputs": [
        {
          "output_type": "execute_result",
          "data": {
            "text/plain": [
              "(34, 11)"
            ]
          },
          "metadata": {},
          "execution_count": 2
        }
      ],
      "source": [
        "data = pd.read_excel(\"Data UAS.xlsx\")\n",
        "data.shape"
      ]
    },
    {
      "cell_type": "code",
      "execution_count": null,
      "metadata": {
        "colab": {
          "base_uri": "https://localhost:8080/",
          "height": 425
        },
        "id": "L62A0ogCb0k-",
        "outputId": "474f070b-af5d-407f-a1c7-36ec1ba646d7"
      },
      "outputs": [
        {
          "output_type": "execute_result",
          "data": {
            "text/html": [
              "<table class=\"simpletable\">\n",
              "<caption>IV2SLS Regression Results</caption>\n",
              "<tr>\n",
              "  <th>Dep. Variable:</th>    <td>Ketahanan Pangan</td> <th>  R-squared:         </th> <td>   0.621</td>\n",
              "</tr>\n",
              "<tr>\n",
              "  <th>Model:</th>                 <td>IV2SLS</td>      <th>  Adj. R-squared:    </th> <td>   0.583</td>\n",
              "</tr>\n",
              "<tr>\n",
              "  <th>Method:</th>               <td>Two Stage</td>    <th>  F-statistic:       </th> <td>   17.36</td>\n",
              "</tr>\n",
              "<tr>\n",
              "  <th></th>                    <td>Least Squares</td>  <th>  Prob (F-statistic):</th> <td>1.01e-06</td>\n",
              "</tr>\n",
              "<tr>\n",
              "  <th>Date:</th>             <td>Fri, 21 Jan 2022</td> <th>                     </th>     <td> </td>   \n",
              "</tr>\n",
              "<tr>\n",
              "  <th>Time:</th>                 <td>02:14:01</td>     <th>                     </th>     <td> </td>   \n",
              "</tr>\n",
              "<tr>\n",
              "  <th>No. Observations:</th>      <td>    34</td>      <th>                     </th>     <td> </td>   \n",
              "</tr>\n",
              "<tr>\n",
              "  <th>Df Residuals:</th>          <td>    30</td>      <th>                     </th>     <td> </td>   \n",
              "</tr>\n",
              "<tr>\n",
              "  <th>Df Model:</th>              <td>     3</td>      <th>                     </th>     <td> </td>   \n",
              "</tr>\n",
              "</table>\n",
              "<table class=\"simpletable\">\n",
              "<tr>\n",
              "            <td></td>               <th>coef</th>     <th>std err</th>      <th>t</th>      <th>P>|t|</th>  <th>[0.025</th>    <th>0.975]</th>  \n",
              "</tr>\n",
              "<tr>\n",
              "  <th>const</th>                 <td>    6.9019</td> <td>    9.780</td> <td>    0.706</td> <td> 0.486</td> <td>  -13.071</td> <td>   26.875</td>\n",
              "</tr>\n",
              "<tr>\n",
              "  <th>Penduduk Miskin</th>       <td>    0.0038</td> <td>    0.002</td> <td>    1.849</td> <td> 0.074</td> <td>   -0.000</td> <td>    0.008</td>\n",
              "</tr>\n",
              "<tr>\n",
              "  <th>Indeks Pemanfaatan</th>    <td>    0.5082</td> <td>    0.203</td> <td>    2.503</td> <td> 0.018</td> <td>    0.093</td> <td>    0.923</td>\n",
              "</tr>\n",
              "<tr>\n",
              "  <th>Indeks Keterjangkauan</th> <td>    0.3695</td> <td>    0.171</td> <td>    2.162</td> <td> 0.039</td> <td>    0.021</td> <td>    0.718</td>\n",
              "</tr>\n",
              "</table>\n",
              "<table class=\"simpletable\">\n",
              "<tr>\n",
              "  <th>Omnibus:</th>       <td> 2.894</td> <th>  Durbin-Watson:     </th> <td>   1.060</td>\n",
              "</tr>\n",
              "<tr>\n",
              "  <th>Prob(Omnibus):</th> <td> 0.235</td> <th>  Jarque-Bera (JB):  </th> <td>   2.641</td>\n",
              "</tr>\n",
              "<tr>\n",
              "  <th>Skew:</th>          <td>-0.632</td> <th>  Prob(JB):          </th> <td>   0.267</td>\n",
              "</tr>\n",
              "<tr>\n",
              "  <th>Kurtosis:</th>      <td> 2.484</td> <th>  Cond. No.          </th> <td>6.41e+03</td>\n",
              "</tr>\n",
              "</table>"
            ],
            "text/plain": [
              "<class 'statsmodels.iolib.summary.Summary'>\n",
              "\"\"\"\n",
              "                          IV2SLS Regression Results                           \n",
              "==============================================================================\n",
              "Dep. Variable:       Ketahanan Pangan   R-squared:                       0.621\n",
              "Model:                         IV2SLS   Adj. R-squared:                  0.583\n",
              "Method:                     Two Stage   F-statistic:                     17.36\n",
              "                        Least Squares   Prob (F-statistic):           1.01e-06\n",
              "Date:                Fri, 21 Jan 2022                                         \n",
              "Time:                        02:14:01                                         \n",
              "No. Observations:                  34                                         \n",
              "Df Residuals:                      30                                         \n",
              "Df Model:                           3                                         \n",
              "=========================================================================================\n",
              "                            coef    std err          t      P>|t|      [0.025      0.975]\n",
              "-----------------------------------------------------------------------------------------\n",
              "const                     6.9019      9.780      0.706      0.486     -13.071      26.875\n",
              "Penduduk Miskin           0.0038      0.002      1.849      0.074      -0.000       0.008\n",
              "Indeks Pemanfaatan        0.5082      0.203      2.503      0.018       0.093       0.923\n",
              "Indeks Keterjangkauan     0.3695      0.171      2.162      0.039       0.021       0.718\n",
              "==============================================================================\n",
              "Omnibus:                        2.894   Durbin-Watson:                   1.060\n",
              "Prob(Omnibus):                  0.235   Jarque-Bera (JB):                2.641\n",
              "Skew:                          -0.632   Prob(JB):                        0.267\n",
              "Kurtosis:                       2.484   Cond. No.                     6.41e+03\n",
              "==============================================================================\n",
              "\"\"\""
            ]
          },
          "metadata": {},
          "execution_count": 3
        }
      ],
      "source": [
        "no_null_iv = data[(data['Ketahanan Pangan'].notnull()) & (data['Penduduk Miskin'].notnull()) & \n",
        "                    (data['Indeks Pemanfaatan'].notnull()) & (data['Pengeluaran'].notnull()) & (data['Produktivitas Padi'].notnull())\n",
        "                      & (data['Indeks Keterjangkauan'].notnull())& (data['Listrik'].notnull())]\n",
        "endog = no_null_iv['Ketahanan Pangan']\n",
        "exog = no_null_iv[['Penduduk Miskin','Indeks Pemanfaatan', 'Indeks Keterjangkauan']]\n",
        "instr = no_null_iv[['Produktivitas Padi', 'Pengeluaran', 'Indeks Pemanfaatan','Indeks Keterjangkauan',]]\n",
        "dep_var_iv = no_null_iv['Ketahanan Pangan']\n",
        "\n",
        "exog_constant = sm.add_constant(exog)\n",
        "instr_constant = sm.add_constant(instr)\n",
        "no_endog_results = IV2SLS(endog, exog_constant, instrument = instr_constant).fit()\n",
        "\n",
        "no_endog_results.summary()"
      ]
    },
    {
      "cell_type": "code",
      "execution_count": null,
      "metadata": {
        "colab": {
          "base_uri": "https://localhost:8080/",
          "height": 425
        },
        "id": "jWwsJW4Cma0e",
        "outputId": "9ab1634e-b1f3-4b9f-aad5-017cc73fe2c8"
      },
      "outputs": [
        {
          "output_type": "execute_result",
          "data": {
            "text/html": [
              "<table class=\"simpletable\">\n",
              "<caption>IV2SLS Regression Results</caption>\n",
              "<tr>\n",
              "  <th>Dep. Variable:</th>     <td>Penduduk Miskin</td> <th>  R-squared:         </th> <td>   0.747</td>\n",
              "</tr>\n",
              "<tr>\n",
              "  <th>Model:</th>                 <td>IV2SLS</td>      <th>  Adj. R-squared:    </th> <td>   0.722</td>\n",
              "</tr>\n",
              "<tr>\n",
              "  <th>Method:</th>               <td>Two Stage</td>    <th>  F-statistic:       </th> <td>   12.64</td>\n",
              "</tr>\n",
              "<tr>\n",
              "  <th></th>                    <td>Least Squares</td>  <th>  Prob (F-statistic):</th> <td>1.63e-05</td>\n",
              "</tr>\n",
              "<tr>\n",
              "  <th>Date:</th>             <td>Fri, 21 Jan 2022</td> <th>                     </th>     <td> </td>   \n",
              "</tr>\n",
              "<tr>\n",
              "  <th>Time:</th>                 <td>02:14:01</td>     <th>                     </th>     <td> </td>   \n",
              "</tr>\n",
              "<tr>\n",
              "  <th>No. Observations:</th>      <td>    34</td>      <th>                     </th>     <td> </td>   \n",
              "</tr>\n",
              "<tr>\n",
              "  <th>Df Residuals:</th>          <td>    30</td>      <th>                     </th>     <td> </td>   \n",
              "</tr>\n",
              "<tr>\n",
              "  <th>Df Model:</th>              <td>     3</td>      <th>                     </th>     <td> </td>   \n",
              "</tr>\n",
              "</table>\n",
              "<table class=\"simpletable\">\n",
              "<tr>\n",
              "           <td></td>             <th>coef</th>     <th>std err</th>      <th>t</th>      <th>P>|t|</th>  <th>[0.025</th>    <th>0.975]</th>  \n",
              "</tr>\n",
              "<tr>\n",
              "  <th>const</th>              <td> -399.6404</td> <td> 3001.594</td> <td>   -0.133</td> <td> 0.895</td> <td>-6529.713</td> <td> 5730.432</td>\n",
              "</tr>\n",
              "<tr>\n",
              "  <th>Ketahanan Pangan</th>   <td>   -0.2399</td> <td>   16.284</td> <td>   -0.015</td> <td> 0.988</td> <td>  -33.497</td> <td>   33.017</td>\n",
              "</tr>\n",
              "<tr>\n",
              "  <th>Produktivitas Padi</th> <td>    0.0003</td> <td> 9.84e-05</td> <td>    2.682</td> <td> 0.012</td> <td>  6.3e-05</td> <td>    0.000</td>\n",
              "</tr>\n",
              "<tr>\n",
              "  <th>Pengeluaran</th>        <td>    6.1958</td> <td>   37.591</td> <td>    0.165</td> <td> 0.870</td> <td>  -70.574</td> <td>   82.966</td>\n",
              "</tr>\n",
              "</table>\n",
              "<table class=\"simpletable\">\n",
              "<tr>\n",
              "  <th>Omnibus:</th>       <td>17.499</td> <th>  Durbin-Watson:     </th> <td>   2.310</td>\n",
              "</tr>\n",
              "<tr>\n",
              "  <th>Prob(Omnibus):</th> <td> 0.000</td> <th>  Jarque-Bera (JB):  </th> <td>  23.651</td>\n",
              "</tr>\n",
              "<tr>\n",
              "  <th>Skew:</th>          <td>-1.368</td> <th>  Prob(JB):          </th> <td>7.31e-06</td>\n",
              "</tr>\n",
              "<tr>\n",
              "  <th>Kurtosis:</th>      <td> 6.034</td> <th>  Cond. No.          </th> <td>7.87e+07</td>\n",
              "</tr>\n",
              "</table>"
            ],
            "text/plain": [
              "<class 'statsmodels.iolib.summary.Summary'>\n",
              "\"\"\"\n",
              "                          IV2SLS Regression Results                           \n",
              "==============================================================================\n",
              "Dep. Variable:        Penduduk Miskin   R-squared:                       0.747\n",
              "Model:                         IV2SLS   Adj. R-squared:                  0.722\n",
              "Method:                     Two Stage   F-statistic:                     12.64\n",
              "                        Least Squares   Prob (F-statistic):           1.63e-05\n",
              "Date:                Fri, 21 Jan 2022                                         \n",
              "Time:                        02:14:01                                         \n",
              "No. Observations:                  34                                         \n",
              "Df Residuals:                      30                                         \n",
              "Df Model:                           3                                         \n",
              "======================================================================================\n",
              "                         coef    std err          t      P>|t|      [0.025      0.975]\n",
              "--------------------------------------------------------------------------------------\n",
              "const               -399.6404   3001.594     -0.133      0.895   -6529.713    5730.432\n",
              "Ketahanan Pangan      -0.2399     16.284     -0.015      0.988     -33.497      33.017\n",
              "Produktivitas Padi     0.0003   9.84e-05      2.682      0.012     6.3e-05       0.000\n",
              "Pengeluaran            6.1958     37.591      0.165      0.870     -70.574      82.966\n",
              "==============================================================================\n",
              "Omnibus:                       17.499   Durbin-Watson:                   2.310\n",
              "Prob(Omnibus):                  0.000   Jarque-Bera (JB):               23.651\n",
              "Skew:                          -1.368   Prob(JB):                     7.31e-06\n",
              "Kurtosis:                       6.034   Cond. No.                     7.87e+07\n",
              "==============================================================================\n",
              "\"\"\""
            ]
          },
          "metadata": {},
          "execution_count": 4
        }
      ],
      "source": [
        "endog = no_null_iv['Penduduk Miskin']\n",
        "exog = no_null_iv[['Ketahanan Pangan','Produktivitas Padi', 'Pengeluaran']]\n",
        "instr = no_null_iv[['Listrik', 'Indeks Keterjangkauan', 'Pengeluaran','Indeks Pemanfaatan',]]\n",
        "dep_var_iv = no_null_iv['Penduduk Miskin']\n",
        "\n",
        "exog_constant = sm.add_constant(exog)\n",
        "instr_constant = sm.add_constant(instr)\n",
        "no_endog_results = IV2SLS(endog, exog_constant, instrument = instr_constant).fit()\n",
        "\n",
        "no_endog_results.summary()"
      ]
    },
    {
      "cell_type": "code",
      "execution_count": null,
      "metadata": {
        "colab": {
          "base_uri": "https://localhost:8080/",
          "height": 350
        },
        "id": "2T3-Nw0cfJ9U",
        "outputId": "bda2e852-f82b-4728-96df-955b7a93c177"
      },
      "outputs": [
        {
          "output_type": "stream",
          "name": "stderr",
          "text": [
            "/usr/local/lib/python3.7/dist-packages/seaborn/_decorators.py:43: FutureWarning: Pass the following variables as keyword args: x, y. From version 0.12, the only valid positional argument will be `data`, and passing other arguments without an explicit keyword will result in an error or misinterpretation.\n",
            "  FutureWarning\n"
          ]
        },
        {
          "output_type": "display_data",
          "data": {
            "image/png": "[encoded data removed]",
            "text/plain": [
              "<Figure size 432x288 with 1 Axes>"
            ]
          },
          "metadata": {
            "needs_background": "light"
          }
        }
      ],
      "source": [
        "print_resids(no_endog_results.predict(), no_endog_results.resid)"
      ]
    },
    {
      "cell_type": "code",
      "execution_count": null,
      "metadata": {
        "colab": {
          "base_uri": "https://localhost:8080/",
          "height": 511
        },
        "id": "ocx3aGL2fQTF",
        "outputId": "e0123737-eb15-4850-9284-386eec5eaf95"
      },
      "outputs": [
        {
          "output_type": "stream",
          "name": "stdout",
          "text": [
            "the descriptive statistics for the errors and a histogram of them:\n",
            "\n",
            " count    3.400000e+01\n",
            "mean    -2.033406e-13\n",
            "std      3.205401e+02\n",
            "min     -1.075177e+03\n",
            "25%     -4.732558e+01\n",
            "50%      8.322314e+01\n",
            "75%      1.188709e+02\n",
            "max      5.859840e+02\n",
            "dtype: float64\n"
          ]
        },
        {
          "output_type": "stream",
          "name": "stderr",
          "text": [
            "/usr/local/lib/python3.7/dist-packages/seaborn/distributions.py:2619: FutureWarning: `distplot` is a deprecated function and will be removed in a future version. Please adapt your code to use either `displot` (a figure-level function with similar flexibility) or `histplot` (an axes-level function for histograms).\n",
            "  warnings.warn(msg, FutureWarning)\n"
          ]
        },
        {
          "output_type": "display_data",
          "data": {
            "image/png": "[encoded data removed]",
            "text/plain": [
              "<Figure size 432x288 with 1 Axes>"
            ]
          },
          "metadata": {
            "needs_background": "light"
          }
        }
      ],
      "source": [
        "print (\"the descriptive statistics for the errors and a histogram of them:\\n\\n\", no_endog_results.resid.describe())\n",
        "sns.distplot(no_endog_results.resid);"
      ]
    }
  ],
  "metadata": {
    "colab": {
      "name": "UAS Ekono.ipynb",
      "provenance": [],
      "authorship_tag": "ABX9TyN/kKVpP4sr6KKFCmrV58W3",
      "include_colab_link": true
    },
    "kernelspec": {
      "display_name": "Python 3",
      "name": "python3"
    },
    "language_info": {
      "name": "python"
    }
  },
  "nbformat": 4,
  "nbformat_minor": 0
}