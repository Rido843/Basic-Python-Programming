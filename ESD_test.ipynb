{
  "nbformat": 4,
  "nbformat_minor": 0,
  "metadata": {
    "colab": {
      "name": "ESD_test.ipynb",
      "provenance": [],
      "collapsed_sections": [],
      "authorship_tag": "ABX9TyPep2ccgNfD720GEAz5acIA",
      "include_colab_link": true
    },
    "kernelspec": {
      "name": "python3",
      "display_name": "Python 3"
    },
    "language_info": {
      "name": "python"
    }
  },
  "cells": [
    {
      "cell_type": "markdown",
      "metadata": {
        "id": "view-in-github",
        "colab_type": "text"
      },
      "source": [
        "<a href=\"https://colab.research.google.com/github/Rido843/Basic-Python-Programming-for-Data-Science/blob/main/ESD_test.ipynb\" target=\"_parent\"><img src=\"https://colab.research.google.com/assets/colab-badge.svg\" alt=\"Open In Colab\"/></a>"
      ]
    },
    {
      "cell_type": "code",
      "metadata": {
        "id": "1-7PtmtnDwCS"
      },
      "source": [
        "import matplotlib.pyplot as plt\n",
        "import numpy as np\n",
        "import pandas as pd\n",
        "import scipy.stats as stats"
      ],
      "execution_count": null,
      "outputs": []
    },
    {
      "cell_type": "code",
      "metadata": {
        "id": "i5PFnPE1D4WK"
      },
      "source": [
        "%matplotlib inline"
      ],
      "execution_count": null,
      "outputs": []
    },
    {
      "cell_type": "code",
      "metadata": {
        "id": "NIqc9zZcEAhY"
      },
      "source": [
        "y = np.random.random(100)\n",
        "x = np.arange(len(y))"
      ],
      "execution_count": null,
      "outputs": []
    },
    {
      "cell_type": "code",
      "metadata": {
        "colab": {
          "base_uri": "https://localhost:8080/",
          "height": 282
        },
        "id": "5WhI5U8rEEOR",
        "outputId": "192fc02a-113b-4fbe-a2b0-ec20bb743839"
      },
      "source": [
        "plt.scatter(x,y)"
      ],
      "execution_count": null,
      "outputs": [
        {
          "output_type": "execute_result",
          "data": {
            "text/plain": [
              "<matplotlib.collections.PathCollection at 0x7fd12d998210>"
            ]
          },
          "metadata": {
            "tags": []
          },
          "execution_count": 6
        },
        {
          "output_type": "display_data",
          "data": {
            "image/png": "[encoded data removed]",
            "text/plain": [
              "<Figure size 432x288 with 1 Axes>"
            ]
          },
          "metadata": {
            "tags": [],
            "needs_background": "light"
          }
        }
      ]
    },
    {
      "cell_type": "code",
      "metadata": {
        "id": "J5sQi5Q2EH5J"
      },
      "source": [
        "y[14] = 9\n",
        "y[83] = 10"
      ],
      "execution_count": null,
      "outputs": []
    },
    {
      "cell_type": "code",
      "metadata": {
        "colab": {
          "base_uri": "https://localhost:8080/",
          "height": 282
        },
        "id": "lGWuRZN6Eaep",
        "outputId": "968764cf-604c-4c92-a52a-adb309619598"
      },
      "source": [
        "plt.scatter(x,y)"
      ],
      "execution_count": null,
      "outputs": [
        {
          "output_type": "execute_result",
          "data": {
            "text/plain": [
              "<matplotlib.collections.PathCollection at 0x7fd12d47cf10>"
            ]
          },
          "metadata": {
            "tags": []
          },
          "execution_count": 8
        },
        {
          "output_type": "display_data",
          "data": {
            "image/png": "[encoded data removed]",
            "text/plain": [
              "<Figure size 432x288 with 1 Axes>"
            ]
          },
          "metadata": {
            "tags": [],
            "needs_background": "light"
          }
        }
      ]
    },
    {
      "cell_type": "code",
      "metadata": {
        "id": "IvDJrLUXEfYI"
      },
      "source": [
        "def grubbs_stat(y):\n",
        "    std_dev = np.std(y)\n",
        "    avg_y = np.mean(y)\n",
        "    abs_val_minus_avg = abs(y - avg_y)\n",
        "    max_of_deviations = max(abs_val_minus_avg)\n",
        "    max_ind = np.argmax(abs_val_minus_avg)\n",
        "    Gcal = max_of_deviations/ std_dev\n",
        "    print(\"Grubbs Statistics Value : {}\".format(Gcal))\n",
        "    return Gcal, max_ind"
      ],
      "execution_count": null,
      "outputs": []
    },
    {
      "cell_type": "code",
      "metadata": {
        "id": "OHTn7Wr9EjrI"
      },
      "source": [
        "def calculate_critical_value(size, alpha):\n",
        "    t_dist = stats.t.ppf(1 - alpha / (2 * size), size - 2)\n",
        "    numerator = (size - 1) * np.sqrt(np.square(t_dist))\n",
        "    denominator = np.sqrt(size) * np.sqrt(size - 2 + np.square(t_dist))\n",
        "    critical_value = numerator / denominator\n",
        "    print(\"Grubbs Critical Value: {}\".format(critical_value))\n",
        "    return critical_value"
      ],
      "execution_count": null,
      "outputs": []
    },
    {
      "cell_type": "code",
      "metadata": {
        "id": "2rBp7tzyEmro"
      },
      "source": [
        "def check_G_values(Gs, Gc, inp, max_index):\n",
        "    if Gs > Gc:\n",
        "        print('{} adalah outlier. G > G-critical: {:.4f} > {:.4f} \\n'.format(inp[max_index], Gs, Gc))\n",
        "    else:\n",
        "        print('{} bukan outlier. G > G-critical: {:.4f} > {:.4f} \\n'.format(inp[max_index], Gs, Gc))"
      ],
      "execution_count": null,
      "outputs": []
    },
    {
      "cell_type": "code",
      "metadata": {
        "id": "qPpq09hdEymv"
      },
      "source": [
        "\n",
        "def ESD_Test(input_series, alpha, max_outliers):\n",
        "    for iterations in range(max_outliers):\n",
        "        Gcritical = calculate_critical_value(len(input_series), alpha)\n",
        "        Gstat, max_index = grubbs_stat(input_series)\n",
        "        check_G_values(Gstat, Gcritical, input_series, max_index)\n",
        "        input_series = np.delete(input_series, max_index)"
      ],
      "execution_count": null,
      "outputs": []
    },
    {
      "cell_type": "code",
      "metadata": {
        "colab": {
          "base_uri": "https://localhost:8080/"
        },
        "id": "vYvD4k6KE7Vg",
        "outputId": "7c28baac-0262-44ac-e584-edd10a3936f5"
      },
      "source": [
        "ESD_Test(y, 0.05, 3)"
      ],
      "execution_count": null,
      "outputs": [
        {
          "output_type": "stream",
          "text": [
            "Grubbs Critical Value: 3.384082902288351\n",
            "Grubbs Statistics Value : 7.181842194785038\n",
            "10.0 adalah outlier. G > G-critical: 7.1818 > 3.3841 \n",
            "\n",
            "Grubbs Critical Value: 3.380650508067058\n",
            "Grubbs Statistics Value : 9.324063069324607\n",
            "9.0 adalah outlier. G > G-critical: 9.3241 > 3.3807 \n",
            "\n",
            "Grubbs Critical Value: 3.377175980782947\n",
            "Grubbs Statistics Value : 1.6754590547932435\n",
            "0.9886327302893506 bukan outlier. G > G-critical: 1.6755 > 3.3772 \n",
            "\n"
          ],
          "name": "stdout"
        }
      ]
    }
  ]
}