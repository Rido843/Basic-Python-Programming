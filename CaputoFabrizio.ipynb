{
  "nbformat": 4,
  "nbformat_minor": 0,
  "metadata": {
    "colab": {
      "name": "CaputoFabrizio.ipynb",
      "provenance": [],
      "authorship_tag": "ABX9TyNU+okV4GQyHiBN2ThqiA27",
      "include_colab_link": true
    },
    "kernelspec": {
      "name": "python3",
      "display_name": "Python 3"
    },
    "language_info": {
      "name": "python"
    }
  },
  "cells": [
    {
      "cell_type": "markdown",
      "metadata": {
        "id": "view-in-github",
        "colab_type": "text"
      },
      "source": [
        "<a href=\"https://colab.research.google.com/github/Rido843/Basic-Python-Programming-for-Data-Science/blob/main/CaputoFabrizio.ipynb\" target=\"_parent\"><img src=\"https://colab.research.google.com/assets/colab-badge.svg\" alt=\"Open In Colab\"/></a>"
      ]
    },
    {
      "cell_type": "code",
      "metadata": {
        "id": "2NHz5wQWg7_2"
      },
      "source": [
        "import numpy as np\n",
        "import matplotlib.pyplot as plt"
      ],
      "execution_count": null,
      "outputs": []
    },
    {
      "cell_type": "code",
      "metadata": {
        "id": "lx521r_yiJt1"
      },
      "source": [
        "r=6\n",
        "A=2\n",
        "K=56\n",
        "t1=0.8\n",
        "t2=0.4\n",
        "m1=0.3\n",
        "m2=0.1\n",
        "q=4\n",
        "E=1.5\n",
        "b=0.6\n",
        "B=0.0702"
      ],
      "execution_count": null,
      "outputs": []
    },
    {
      "cell_type": "code",
      "metadata": {
        "id": "NOxVk9BJiS1A"
      },
      "source": [
        "# Parameter Fraksional\n",
        "\n",
        "def M(x):\n",
        "        return 2./(2.-x)\n",
        "\n",
        "sigma = 0.6\n",
        "\n",
        "M1 = (2*(1-sigma))/float(M(sigma)*(2-sigma))\n",
        "\n",
        "M2 = (2*sigma)/float((2-sigma)*M(sigma))\n",
        "\n",
        "\n",
        "# Funciones simples\n",
        "\n",
        "def functionS(S,I,R):\n",
        "        return r*S*(1-(S+I)/K)-t1*S+t2*I-m1*S*R/(B+S)-q*E*S\n",
        "def functionI(S,I,R):\n",
        "        return A*I*(1-(S+I)/K)+t1*S-t2*I-m1*I*R/(B+I)\n",
        "\n",
        "def functionR(S,I,R):\n",
        "        return  -b*R+m2*S*R/(B+S)+m2*I*R/(B+I);\n",
        "\n",
        "# def functionS(S,I,R):\n",
        "#         return A - (alpha*S*I)/float(1+beta*S+gamma*I**2) - d*S + p*R       \n",
        "# def functionI(S,I,R):\n",
        "#         return (alpha*S*I)/float(1+beta*S+gamma*I**2) - (rr*u*I)/float(1+b*u*I) - d*I - delta*I - m*I\n",
        "\n",
        "# def functionR(S,I,R):\n",
        "#         return (rr*u*I)/float(1+b*u*I) - d*R - p*R + m*I"
      ],
      "execution_count": null,
      "outputs": []
    },
    {
      "cell_type": "code",
      "metadata": {
        "id": "DnM_OvWbibio"
      },
      "source": [
        "h = 0.001\n",
        "\n",
        "\n",
        "\n",
        "SS = []\n",
        "II = []\n",
        "RR = []\n",
        "\n",
        "Sigma = [1, 0.9, 0.6, 0.3]"
      ],
      "execution_count": null,
      "outputs": []
    },
    {
      "cell_type": "code",
      "metadata": {
        "id": "vsEKAV6kikYB"
      },
      "source": [
        "for ciclos in range(4):\n",
        "\n",
        "        sigma = Sigma[ciclos]\n",
        "\n",
        "        s = 0.9\n",
        "        i = 0.09\n",
        "        r = 0.01\n",
        "        t = 0\n",
        "\n",
        "        s1 = s +0\n",
        "        i1 = i +0\n",
        "        r1 = r +0\n",
        "\n",
        "        s2 = s +0\n",
        "        i2 = i +0\n",
        "        r2 = r +0\n",
        "\n",
        "        s3 = s +0\n",
        "        i3 = i +0\n",
        "        r3 = r +0\n",
        "\n",
        "\n",
        "        St = [s]\n",
        "        It = [i]\n",
        "        Rt = [r]\n",
        "        T  = [t]\n",
        "\n",
        "        for j in range(200000):\n",
        "\n",
        "                t += h\n",
        "                if ciclos == 0:\n",
        "\n",
        "                        s1 = s + h*functionS(s,i,r)\n",
        "                        i1 = i + h*functionI(s,i,r)\n",
        "                        r1 = r + h*functionR(s,i,r)\n",
        "\n",
        "                        s = s1 + 0\n",
        "                        i = i1 + 0\n",
        "                        r = r1 + 0\n",
        "\n",
        "                        St.append(s)\n",
        "                        It.append(i)\n",
        "                        Rt.append(r)\n",
        "                        T.append(t)\n",
        "\n",
        "\n",
        "\n",
        "\n",
        "                else:\n",
        "                        ans= -(1./M(sigma))*(1-sigma+(4./3.)*h*sigma)*functionS(s2,i2,r2) + (5*h*sigma)/(12*M(sigma))*functionS(s3,i3,r3)\n",
        "                        ani= -(1./M(sigma))*(1-sigma+(4./3.)*h*sigma)*functionI(s2,i2,r2) + (5*h*sigma)/(12*M(sigma))*functionI(s3,i3,r3)\n",
        "                        anr= -(1./M(sigma))*(1-sigma+(4./3.)*h*sigma)*functionR(s2,i2,r2) + (5*h*sigma)/(12*M(sigma))*functionR(s3,i3,r3)\n",
        "\n",
        "                        s1 = s + (1./M(sigma))*(1-sigma + (23./12.)*sigma*h)*functionS(s,i,r) + ans\n",
        "                        i1 = i + (1./M(sigma))*(1-sigma + (23./12.)*sigma*h)*functionI(s,i,r) + ani\n",
        "                        r1 = r + (1./M(sigma))*(1-sigma + (23./12.)*sigma*h)*functionR(s,i,r) + anr\n",
        "\n",
        "                        s3 = s2 + 0\n",
        "                        i3 = i2 + 0\n",
        "                        r3 = r2 + 0\n",
        "\n",
        "                        s2 = s + 0\n",
        "                        i2 = i + 0\n",
        "                        r2 = r + 0\n",
        "\n",
        "                        s = s1 + 0\n",
        "                        i = i1 + 0\n",
        "                        r = r1 + 0\n",
        "\n",
        "                        St.append(s)\n",
        "                        It.append(i)\n",
        "                        Rt.append(r)\n",
        "                        T.append(t)\n",
        "\n",
        "        SS.append(St)\n",
        "        II.append(It)\n",
        "        RR.append(Rt)"
      ],
      "execution_count": null,
      "outputs": []
    },
    {
      "cell_type": "code",
      "metadata": {
        "colab": {
          "base_uri": "https://localhost:8080/",
          "height": 279
        },
        "id": "tXpqubseirSd",
        "outputId": "e3b82d0c-d7cd-4b5e-a9fe-88d9172a92c8"
      },
      "source": [
        "fig,ax = plt.subplots()\n",
        "\n",
        "\n",
        "ax.plot(T,SS[0], color = (0.4,0.7,0.3),label='1')\n",
        "ax.plot(T,SS[1], ls='--', color = (0.4,0.7,0.3),label='0.9')\n",
        "ax.plot(T,SS[2], ls='-.', color = (0.4,0.7,0.3),label='0.6')\n",
        "ax.plot(T,SS[3], ls=':', color = (0.4,0.7,0.3),label='0.3')\n",
        "#ax.plot(T,It)\n",
        "#ax.plot(T,Rt)\n",
        "#ax.set_title(u\"SIRS Fractional Model\")\n",
        "ax.spines['left'].set_position(('outward',10))\n",
        "ax.spines['bottom'].set_position(('outward',10))\n",
        "ax.spines['right'].set_visible(False)\n",
        "ax.spines['top'].set_visible(False)\n",
        "#ax.set_yticks(range(10),minor=True)\n",
        "ax.set_ylim([0,1])\n",
        "ax.legend(framealpha=1)\n",
        "#ax.legend(bbox_to_anchor=(1.1, 1.05))\n",
        "ax.legend()#loc=\"upper left\", bbox_to_anchor=(0.8,0.2))\n",
        "ax.yaxis.set_ticks_position('left')\n",
        "ax.xaxis.set_ticks_position('bottom')\n",
        "fig.savefig('AB-S1.png')\n",
        "plt.show()\n"
      ],
      "execution_count": null,
      "outputs": [
        {
          "output_type": "display_data",
          "data": {
            "text/plain": [
              "<Figure size 432x288 with 1 Axes>"
            ],
            "image/png": "[encoded data removed]"
          },
          "metadata": {
            "needs_background": "light"
          }
        }
      ]
    },
    {
      "cell_type": "code",
      "metadata": {
        "colab": {
          "base_uri": "https://localhost:8080/",
          "height": 279
        },
        "id": "4CvtK08OizRt",
        "outputId": "8b232f3f-66bb-4f6c-ff65-38675f645608"
      },
      "source": [
        "fig,ax = plt.subplots()\n",
        "\n",
        "ax.plot(T,II[0], color = (0.7,0.3,0.3),label='1')\n",
        "ax.plot(T,II[1],ls='--', color = (0.7,0.3,0.3),label='0.9')\n",
        "ax.plot(T,II[2],ls='-.', color = (0.7,0.3,0.3),label='0.6')\n",
        "ax.plot(T,II[3],ls=':', color = (0.7,0.3,0.3), label='0.3')\n",
        "ax.spines['left'].set_position(('outward',10))\n",
        "ax.spines['bottom'].set_position(('outward',10))\n",
        "ax.spines['right'].set_visible(False)\n",
        "ax.spines['top'].set_visible(False)\n",
        "#ax.set_yticks(range(10),minor=True)\n",
        "ax.set_ylim([0,1])\n",
        "ax.legend(framealpha=1)\n",
        "#ax.legend(bbox_to_anchor=(1.1, 1.05))\n",
        "ax.legend()#loc=\"upper left\", bbox_to_anchor=(0.8,0.2))\n",
        "ax.yaxis.set_ticks_position('left')\n",
        "ax.xaxis.set_ticks_position('bottom')\n",
        "#fig.savefig('AB-I1.png')\n",
        "plt.show()"
      ],
      "execution_count": null,
      "outputs": [
        {
          "output_type": "display_data",
          "data": {
            "text/plain": [
              "<Figure size 432x288 with 1 Axes>"
            ],
            "image/png": "[encoded data removed]"
          },
          "metadata": {
            "needs_background": "light"
          }
        }
      ]
    },
    {
      "cell_type": "code",
      "metadata": {
        "colab": {
          "base_uri": "https://localhost:8080/",
          "height": 279
        },
        "id": "aOZnSC4mi4WS",
        "outputId": "945f2419-2860-4283-d127-044cb7706f73"
      },
      "source": [
        "fig,ax = plt.subplots()\n",
        "\n",
        "ax.plot(T,RR[0], color = (0.3,0.4,0.7),label='1')\n",
        "ax.plot(T,RR[1],ls='--', color = (0.3,0.4,0.7),label='0.9')\n",
        "ax.plot(T,RR[2],ls='-.', color = (0.3,0.4,0.7),label='0.6')\n",
        "ax.plot(T,RR[3],ls=':', color = (0.3,0.4,0.7), label='0.3')\n",
        "ax.spines['left'].set_position(('outward',10))\n",
        "ax.spines['bottom'].set_position(('outward',10))\n",
        "ax.spines['right'].set_visible(False)\n",
        "ax.spines['top'].set_visible(False)\n",
        "#ax.set_yticks(range(10),minor=True)\n",
        "ax.set_ylim([0,1])\n",
        "ax.legend(framealpha=1)\n",
        "#ax.legend(bbox_to_anchor=(1.1, 1.05))\n",
        "ax.legend()#loc=\"upper left\", bbox_to_anchor=(0.8,0.2))\n",
        "ax.yaxis.set_ticks_position('left')\n",
        "ax.xaxis.set_ticks_position('bottom')\n",
        "#fig.savefig('AB-R1.png')\n",
        "plt.show()"
      ],
      "execution_count": null,
      "outputs": [
        {
          "output_type": "display_data",
          "data": {
            "text/plain": [
              "<Figure size 432x288 with 1 Axes>"
            ],
            "image/png": "[encoded data removed]"
          },
          "metadata": {
            "needs_background": "light"
          }
        }
      ]
    },
    {
      "cell_type": "markdown",
      "metadata": {
        "id": "ZbI7CwOIjBKP"
      },
      "source": [
        "**Metode Euler**"
      ]
    },
    {
      "cell_type": "code",
      "metadata": {
        "id": "RYsSCQXFjKGt",
        "colab": {
          "base_uri": "https://localhost:8080/",
          "height": 235
        },
        "outputId": "9663c88a-b37c-4e7f-e268-e48cd7bea081"
      },
      "source": [
        "# Funciones fraccionarias\n",
        "\n",
        "def M(x):\n",
        "        return 2./(2.-x)\n",
        "\n",
        "\n",
        "def c1(S,I,R):\n",
        "        num = I + gamma*I**3\n",
        "        den = 1 + beta*S + gamma*I**2\n",
        "        den = den**2\n",
        "        return -alpha*(num/float(den)) - d\n",
        "\n",
        "def c2(S,I,R):\n",
        "        num = S + beta*S**2 - gamma*S*I**2\n",
        "        den = 1 + beta*S + gamma*I**2\n",
        "        den = den**2\n",
        "        return -alpha*(num/float(den))\n",
        "\n",
        "def c3(S,I,R):\n",
        "        num = I + gamma*I**3\n",
        "        den = 1 + beta*S + gamma*I**2\n",
        "        den = den**2\n",
        "        return alpha*(num/float(den))\n",
        "\n",
        "def c4(S,I,R):\n",
        "        num = S + beta*S**2 - gamma*S*I**2\n",
        "        den = 1 + beta*S + gamma*I**2\n",
        "        den = den**2\n",
        "        return alpha*(num/float(den)) - (rr*u)/((1+b*u*I**2)**2) - d - delta - m\n",
        "\n",
        "def c5(S,I,R):\n",
        "        return (rr*u)/((1+b*u*I**2)**2) + m\n",
        "\n",
        "c6 = -d-p\n",
        "\n",
        "def k1(S,I,R):\n",
        "        return (M1*c2(S,I,R))/float(1-M1*c1(S,I,R))\n",
        "\n",
        "def k2(S,I,R):\n",
        "        return (M1*p)/float(1-M1*c1(S,I,R))\n",
        "\n",
        "def k3(S,I,R):\n",
        "        return (M2*functionS(S,I,R))/float(1-M1*c1(S,I,R))\n",
        "\n",
        "def k4(S,I,R):\n",
        "        return (M1*c3(S,I,R))/float(1-M1*c4(S,I,R))\n",
        "\n",
        "def k5(S,I,R):\n",
        "        return (M2*functionI(S,I,R))/float(1-M1*c4(S,I,R))\n",
        "\n",
        "def k6(S,I,R):\n",
        "        return (M1*c5(S,I,R))/float(1-M1*c6)\n",
        "\n",
        "def k7(S,I,R):\n",
        "        return (M2*functionR(S,I,R))/float(1-M1*c6)\n",
        "\n",
        "\n",
        "def dfunctionS(S,I,R):\n",
        "        num = k1(S,I,R)*k5(S,I,R) + k2(S,I,R)*k5(S,I,R)*k6(S,I,R) + k2(S,I,R)*k7(S,I,R) + k3(S,I,R)\n",
        "        den = 1 - k1(S,I,R)*k4(S,I,R) - k2(S,I,R)*k4(S,I,R)*k6(S,I,R)\n",
        "        return num/float(den)\n",
        "\n",
        "def dfunctionI(S,I,R):\n",
        "        return k4(S,I,R)*dfunctionS(S,I,R) + k5(S,I,R)\n",
        "\n",
        "def dfunctionR(S,I,R):\n",
        "        return k6(S,I,R)*dfunctionI(S,I,R) + k7(S,I,R)\n"
      ],
      "execution_count": null,
      "outputs": [
        {
          "output_type": "error",
          "ename": "NameError",
          "evalue": "ignored",
          "traceback": [
            "\u001b[0;31m---------------------------------------------------------------------------\u001b[0m",
            "\u001b[0;31mNameError\u001b[0m                                 Traceback (most recent call last)",
            "\u001b[0;32m<ipython-input-39-2ecd932854c5>\u001b[0m in \u001b[0;36m<module>\u001b[0;34m()\u001b[0m\n\u001b[1;32m     32\u001b[0m         \u001b[0;32mreturn\u001b[0m \u001b[0;34m(\u001b[0m\u001b[0mrr\u001b[0m\u001b[0;34m*\u001b[0m\u001b[0mu\u001b[0m\u001b[0;34m)\u001b[0m\u001b[0;34m/\u001b[0m\u001b[0;34m(\u001b[0m\u001b[0;34m(\u001b[0m\u001b[0;36m1\u001b[0m\u001b[0;34m+\u001b[0m\u001b[0mb\u001b[0m\u001b[0;34m*\u001b[0m\u001b[0mu\u001b[0m\u001b[0;34m*\u001b[0m\u001b[0mI\u001b[0m\u001b[0;34m**\u001b[0m\u001b[0;36m2\u001b[0m\u001b[0;34m)\u001b[0m\u001b[0;34m**\u001b[0m\u001b[0;36m2\u001b[0m\u001b[0;34m)\u001b[0m \u001b[0;34m+\u001b[0m \u001b[0mm\u001b[0m\u001b[0;34m\u001b[0m\u001b[0;34m\u001b[0m\u001b[0m\n\u001b[1;32m     33\u001b[0m \u001b[0;34m\u001b[0m\u001b[0m\n\u001b[0;32m---> 34\u001b[0;31m \u001b[0mc6\u001b[0m \u001b[0;34m=\u001b[0m \u001b[0;34m-\u001b[0m\u001b[0md\u001b[0m\u001b[0;34m-\u001b[0m\u001b[0mp\u001b[0m\u001b[0;34m\u001b[0m\u001b[0;34m\u001b[0m\u001b[0m\n\u001b[0m\u001b[1;32m     35\u001b[0m \u001b[0;34m\u001b[0m\u001b[0m\n\u001b[1;32m     36\u001b[0m \u001b[0;32mdef\u001b[0m \u001b[0mk1\u001b[0m\u001b[0;34m(\u001b[0m\u001b[0mS\u001b[0m\u001b[0;34m,\u001b[0m\u001b[0mI\u001b[0m\u001b[0;34m,\u001b[0m\u001b[0mR\u001b[0m\u001b[0;34m)\u001b[0m\u001b[0;34m:\u001b[0m\u001b[0;34m\u001b[0m\u001b[0;34m\u001b[0m\u001b[0m\n",
            "\u001b[0;31mNameError\u001b[0m: name 'd' is not defined"
          ]
        }
      ]
    },
    {
      "cell_type": "code",
      "metadata": {
        "id": "ZqjQkdpcjVmR"
      },
      "source": [
        "s = 0.9\n",
        "i = 0.09\n",
        "r = 0.01\n",
        "t = 0\n",
        "\n",
        "St = [s]\n",
        "It = [i]\n",
        "Rt = [r]\n",
        "T  = [t]\n",
        "\n",
        "for j in range(200000):\n",
        "\n",
        "        t += h\n",
        "        s1 = s + h*functionS(s,i,r)\n",
        "        i1 = i + h*functionI(s,i,r)\n",
        "        r1 = r + h*functionR(s,i,r)\n",
        "\n",
        "        s = s1 + 0\n",
        "        i = i1 + 0\n",
        "        r = r1 + 0\n",
        "\n",
        "        St.append(s)\n",
        "        It.append(i)\n",
        "        Rt.append(r)\n",
        "        T.append(t)"
      ],
      "execution_count": null,
      "outputs": []
    },
    {
      "cell_type": "code",
      "metadata": {
        "id": "1yuuxKrCjcqz"
      },
      "source": [
        "sigma = 0.9\n",
        "\n",
        "M1 = (2*(1-sigma))/float(M(sigma)*(2-sigma))\n",
        "\n",
        "M2 = (2*sigma)/float((2-sigma)*M(sigma))\n",
        "\n",
        "s = 0.9\n",
        "i = 0.09\n",
        "r = 0.01\n",
        "t = 0\n",
        "\n",
        "St2 = [s]\n",
        "It2 = [i]\n",
        "Rt2 = [r]\n",
        "T2  = [t]\n",
        "\n",
        "for j in range(200000):\n",
        "\n",
        "        t += h\n",
        "        s1 = s + h*dfunctionS(s,i,r)\n",
        "        i1 = i + h*dfunctionI(s,i,r)\n",
        "        r1 = r + h*dfunctionR(s,i,r)\n",
        "\n",
        "        s = s1 + 0\n",
        "        i = i1 + 0\n",
        "        r = r1 + 0\n",
        "\n",
        "        St2.append(s)\n",
        "        It2.append(i)\n",
        "        Rt2.append(r)\n",
        "        T2.append(t)\n"
      ],
      "execution_count": null,
      "outputs": []
    },
    {
      "cell_type": "code",
      "metadata": {
        "id": "bWlePdT_ji2f"
      },
      "source": [
        "sigma = 0.6\n",
        "\n",
        "M1 = (2*(1-sigma))/float(M(sigma)*(2-sigma))\n",
        "\n",
        "M2 = (2*sigma)/float((2-sigma)*M(sigma))\n",
        "\n",
        "\n",
        "\n",
        "s = 0.9\n",
        "i = 0.09\n",
        "r = 0.01\n",
        "t = 0\n",
        "\n",
        "St3 = [s]\n",
        "It3 = [i]\n",
        "Rt3 = [r]\n",
        "T3  = [t]\n",
        "\n",
        "for j in range(200000):\n",
        "\n",
        "        t += h\n",
        "        s1 = s + h*dfunctionS(s,i,r)\n",
        "        i1 = i + h*dfunctionI(s,i,r)\n",
        "        r1 = r + h*dfunctionR(s,i,r)\n",
        "\n",
        "        s = s1 + 0\n",
        "        i = i1 + 0\n",
        "        r = r1 + 0\n",
        "\n",
        "        St3.append(s)\n",
        "        It3.append(i)\n",
        "        Rt3.append(r)\n",
        "        T3.append(t)\n"
      ],
      "execution_count": null,
      "outputs": []
    },
    {
      "cell_type": "code",
      "metadata": {
        "id": "0vbAGWbljyn2"
      },
      "source": [
        "sigma = 0.3\n",
        "\n",
        "M1 = (2*(1-sigma))/float(M(sigma)*(2-sigma))\n",
        "\n",
        "M2 = (2*sigma)/float((2-sigma)*M(sigma))\n",
        "\n",
        "\n",
        "s = 0.9\n",
        "i = 0.09\n",
        "r = 0.01\n",
        "t = 0\n",
        "\n",
        "St4 = [s]\n",
        "It4 = [i]\n",
        "Rt4 = [r]\n",
        "T4  = [t]\n",
        "\n",
        "for j in range(200000):\n",
        "\n",
        "        t += h\n",
        "        s1 = s + h*dfunctionS(s,i,r)\n",
        "        i1 = i + h*dfunctionI(s,i,r)\n",
        "        r1 = r + h*dfunctionR(s,i,r)\n",
        "\n",
        "        s = s1 + 0\n",
        "        i = i1 + 0\n",
        "        r = r1 + 0\n",
        "\n",
        "        St4.append(s)\n",
        "        It4.append(i)\n",
        "        Rt4.append(r)\n",
        "        T4.append(t)"
      ],
      "execution_count": null,
      "outputs": []
    },
    {
      "cell_type": "code",
      "metadata": {
        "id": "lMwBYBi4j8EL"
      },
      "source": [
        "fig,ax = plt.subplots()\n",
        "\n",
        "ax.plot(T,St, color = (0.4,0.7,0.3),label='1')\n",
        "ax.plot(T,St2,ls='--', color = (0.4,0.7,0.3),label='0.9')\n",
        "ax.plot(T,St3,ls='-.', color = (0.4,0.7,0.3),label='0.6')\n",
        "ax.plot(T,St4,ls=':', color = (0.4,0.7,0.3), label='0.3')\n",
        "#ax.plot(T,It)\n",
        "#ax.plot(T,Rt)\n",
        "#ax.set_title(u\"SIRS Fractional Model\")\n",
        "ax.spines['left'].set_position(('outward',10))\n",
        "ax.spines['bottom'].set_position(('outward',10))\n",
        "ax.spines['right'].set_visible(False)\n",
        "ax.spines['top'].set_visible(False)\n",
        "#ax.set_yticks(range(10),minor=True)\n",
        "ax.set_ylim([0,1])\n",
        "ax.legend(framealpha=1)\n",
        "#ax.legend(bbox_to_anchor=(1.1, 1.05))\n",
        "ax.legend()#loc=\"upper left\", bbox_to_anchor=(0.8,0.2))\n",
        "ax.yaxis.set_ticks_position('left')\n",
        "ax.xaxis.set_ticks_position('bottom')\n",
        "fig.savefig('S2.png')\n",
        "plt.show()\n"
      ],
      "execution_count": null,
      "outputs": []
    },
    {
      "cell_type": "code",
      "metadata": {
        "id": "c5Yoe2h9kB8B"
      },
      "source": [
        "fig,ax = plt.subplots()\n",
        "\n",
        "#print(It)\n",
        "\n",
        "ax.plot(T,It, color = (0.7,0.3,0.3),label='1')\n",
        "ax.plot(T,It2,ls='--', color = (0.7,0.3,0.3),label='0.9')\n",
        "ax.plot(T,It3,ls='-.', color = (0.7,0.3,0.3),label='0.6')\n",
        "ax.plot(T,It4,ls=':', color = (0.7,0.3,0.3), label='0.3')\n",
        "#ax.plot(T,It)\n",
        "#ax.plot(T,Rt)\n",
        "#ax.set_title(u\"SIRS Fractional Model\")\n",
        "ax.spines['left'].set_position(('outward',10))\n",
        "ax.spines['bottom'].set_position(('outward',10))\n",
        "ax.spines['right'].set_visible(False)\n",
        "ax.spines['top'].set_visible(False)\n",
        "#ax.set_yticks(range(10),minor=True)\n",
        "ax.set_ylim([0,1])\n",
        "ax.legend(framealpha=1)\n",
        "#ax.legend(bbox_to_anchor=(1.1, 1.05))\n",
        "ax.legend()#loc=\"upper left\", bbox_to_anchor=(0.8,0.2))\n",
        "ax.yaxis.set_ticks_position('left')\n",
        "ax.xaxis.set_ticks_position('bottom')\n",
        "fig.savefig('I2.png')\n",
        "plt.show()"
      ],
      "execution_count": null,
      "outputs": []
    },
    {
      "cell_type": "code",
      "metadata": {
        "id": "YWs4YGppkF-a"
      },
      "source": [
        "fig,ax = plt.subplots()\n",
        "\n",
        "ax.plot(T,Rt, color = (0.3,0.4,0.7),label='1')\n",
        "ax.plot(T,Rt2,ls='--', color = (0.3,0.4,0.7),label='0.9')\n",
        "ax.plot(T,Rt3,ls='-.', color = (0.3,0.4,0.7),label='0.6')\n",
        "ax.plot(T,Rt4,ls=':', color = (0.3,0.4,0.7), label='0.3')\n",
        "#ax.plot(T,It)\n",
        "#ax.plot(T,Rt)\n",
        "#ax.set_title(u\"SIRS Fractional Model\")\n",
        "ax.spines['left'].set_position(('outward',10))\n",
        "ax.spines['bottom'].set_position(('outward',10))\n",
        "ax.spines['right'].set_visible(False)\n",
        "ax.spines['top'].set_visible(False)\n",
        "#ax.set_yticks(range(10),minor=True)\n",
        "ax.set_ylim([0,1])\n",
        "ax.legend(framealpha=1)\n",
        "#ax.legend(bbox_to_anchor=(1.1, 1.05))\n",
        "ax.legend()#loc=\"upper left\", bbox_to_anchor=(0.8,0.2))\n",
        "ax.yaxis.set_ticks_position('left')\n",
        "ax.xaxis.set_ticks_position('bottom')\n",
        "fig.savefig('R2.png')\n",
        "plt.show()\n"
      ],
      "execution_count": null,
      "outputs": []
    },
    {
      "cell_type": "code",
      "metadata": {
        "id": "DdydiPrakWJ2"
      },
      "source": [
        "StE1 = np.array(St)\n",
        "StE2 = np.array(St2)\n",
        "StE3 = np.array(St3)\n",
        "StE4 = np.array(St4)\n",
        "\n",
        "\n",
        "StA1 = np.array(SS[0])\n",
        "StA2 = np.array(SS[1])\n",
        "StA3 = np.array(SS[2])\n",
        "StA4 = np.array(SS[3])"
      ],
      "execution_count": null,
      "outputs": []
    },
    {
      "cell_type": "code",
      "metadata": {
        "id": "fsiktykzkct4"
      },
      "source": [
        "n1 = len(StE1)\n",
        "print(abs(np.sum((StE1-StA1)**2)/n1))\n",
        "print(abs(np.sum((StE2-StA2)**2)/n1))\n",
        "print(abs(np.sum((StE3-StA3)**2)/n1))\n",
        "print(abs(np.sum((StE4-StA4)**2)/n1))\n",
        "\n",
        "print(\"_______________________\")\n",
        "print(max(StE1-StA1))\n",
        "print(max(StE2-StA2))\n",
        "print(max(StE3-StA3))\n",
        "print(max(StE4-StA4))\n",
        "\n",
        "print(\"_______________________\")\n",
        "print(abs(np.sum((StE1-StA1))/n1))\n",
        "print(abs(np.sum((StE2-StA2))/n1))\n",
        "print(abs(np.sum((StE3-StA3))/n1))\n",
        "print(abs(np.sum((StE4-StA4))/n1))"
      ],
      "execution_count": null,
      "outputs": []
    },
    {
      "cell_type": "code",
      "metadata": {
        "id": "CTYm00FEkjoZ"
      },
      "source": [
        "fig,ax = plt.subplots()\n",
        "ax.plot(T,StE2-StA2)\n",
        "#ax.plot(T,St, color = (0.4,0.7,0.3),label='1')\n",
        "#ax.plot(T,St2,ls='--', color = (0.4,0.7,0.3),label='0.9')\n",
        "#ax.plot(T,St3,ls='-.', color = (0.4,0.7,0.3),label='0.6')\n",
        "#ax.plot(T,St4,ls=':', color = (0.4,0.7,0.3), label='0.3')\n",
        "#ax.plot(T,It)\n",
        "#ax.plot(T,Rt)\n",
        "#ax.set_title(u\"SIRS Fractional Model\")\n",
        "ax.spines['left'].set_position(('outward',10))\n",
        "ax.spines['bottom'].set_position(('outward',10))\n",
        "ax.spines['right'].set_visible(False)\n",
        "ax.spines['top'].set_visible(False)\n",
        "#ax.set_yticks(range(10),minor=True)\n",
        "#ax.set_ylim([0,1])\n",
        "ax.legend(framealpha=1)\n",
        "#ax.legend(bbox_to_anchor=(1.1, 1.05))\n",
        "ax.legend()#loc=\"upper left\", bbox_to_anchor=(0.8,0.2))\n",
        "ax.yaxis.set_ticks_position('left')\n",
        "ax.xaxis.set_ticks_position('bottom')\n",
        "fig.savefig('diff.png')\n",
        "plt.show()"
      ],
      "execution_count": null,
      "outputs": []
    },
    {
      "cell_type": "code",
      "metadata": {
        "id": "2WPFauywksDp"
      },
      "source": [
        "fig,ax = plt.subplots()\n",
        "\n",
        "ax.plot(T,StA2,ls = \"--\", label = \"Adams-Bashforth scheme\")\n",
        "ax.plot(T,StE2,ls = \":\",label=\"Euler Method\")\n",
        "#ax.plot(T,St, color = (0.4,0.7,0.3),label='1')\n",
        "#ax.plot(T,St2,ls='--', color = (0.4,0.7,0.3),label='0.9')\n",
        "#ax.plot(T,St3,ls='-.', color = (0.4,0.7,0.3),label='0.6')\n",
        "#ax.plot(T,St4,ls=':', color = (0.4,0.7,0.3), label='0.3')\n",
        "#ax.plot(T,It)\n",
        "#ax.plot(T,Rt)\n",
        "#ax.set_title(u\"SIRS Fractional Model\")\n",
        "ax.spines['left'].set_position(('outward',10))\n",
        "ax.spines['bottom'].set_position(('outward',10))\n",
        "ax.spines['right'].set_visible(False)\n",
        "ax.spines['top'].set_visible(False)\n",
        "#ax.set_yticks(range(10),minor=True)\n",
        "ax.set_ylim([0,1])\n",
        "ax.legend(framealpha=1)\n",
        "#ax.legend(bbox_to_anchor=(1.1, 1.05))\n",
        "ax.legend()#loc=\"upper left\", bbox_to_anchor=(0.8,0.2))\n",
        "ax.yaxis.set_ticks_position('left')\n",
        "ax.xaxis.set_ticks_position('bottom')\n",
        "fig.savefig('compare.png')\n",
        "plt.show()"
      ],
      "execution_count": null,
      "outputs": []
    }
  ]
}