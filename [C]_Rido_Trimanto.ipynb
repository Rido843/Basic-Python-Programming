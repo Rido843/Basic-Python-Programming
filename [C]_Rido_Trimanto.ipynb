{
  "nbformat": 4,
  "nbformat_minor": 0,
  "metadata": {
    "colab": {
      "name": "[C]_Rido_Trimanto.ipynb",
      "provenance": [],
      "authorship_tag": "ABX9TyO/oX0BUPQSh+UE1wtSIOLf",
      "include_colab_link": true
    },
    "kernelspec": {
      "name": "python3",
      "display_name": "Python 3"
    },
    "language_info": {
      "name": "python"
    }
  },
  "cells": [
    {
      "cell_type": "markdown",
      "metadata": {
        "id": "view-in-github",
        "colab_type": "text"
      },
      "source": [
        "<a href=\"https://colab.research.google.com/github/Rido843/Basic-Python-Programming-for-Data-Science/blob/main/%5BC%5D_Rido_Trimanto.ipynb\" target=\"_parent\"><img src=\"https://colab.research.google.com/assets/colab-badge.svg\" alt=\"Open In Colab\"/></a>"
      ]
    },
    {
      "cell_type": "markdown",
      "metadata": {
        "id": "UIThD48f3AMP"
      },
      "source": [
        "**Tantangan**"
      ]
    },
    {
      "cell_type": "code",
      "metadata": {
        "colab": {
          "base_uri": "https://localhost:8080/",
          "height": 261
        },
        "id": "IiOe8fWr0_eF",
        "outputId": "d3b2db19-6d20-4cd6-f984-818873825473"
      },
      "source": [
        "import numpy as np\n",
        "import pandas as pd\n",
        "\n",
        "x = int(input('Masukkan Nilai Minimal = '))\n",
        "y = int(input('Masukkan Nilai Maksimal= '))\n",
        "k = int(input('Masukkan Jumlah Kelas = '))\n",
        "n = k-1\n",
        "z = (y-x)/n\n",
        "def lawan():\n",
        "  batas_bawah=list(np.arange(x,y+z,step=z))\n",
        "  batas_atas=list(np.arange(x+z,y+2*z,step=z))\n",
        "  kelas = []\n",
        "  for i in range(1,n+2):\n",
        "    U='U'\n",
        "    kelas.append((U+str(i)))\n",
        "  rata = list((np.arange(x+z,y+2*z,step=z)+np.arange(x,y+z,step=z))/2)\n",
        "  dict1={\"Kelas\":kelas,\"Batas Bawah\":batas_bawah, \"Batas Atas\":batas_atas, \"Nilai Tengah\":rata}\n",
        "  df = pd.DataFrame(dict1)\n",
        "  return df\n",
        "lawan()"
      ],
      "execution_count": null,
      "outputs": [
        {
          "output_type": "stream",
          "text": [
            "Masukkan Nilai Minimal = 1\n",
            "Masukkan Nilai Maksimal= 10\n",
            "Masukkan Jumlah Kelas = 5\n"
          ],
          "name": "stdout"
        },
        {
          "output_type": "execute_result",
          "data": {
            "text/html": [
              "<div>\n",
              "<style scoped>\n",
              "    .dataframe tbody tr th:only-of-type {\n",
              "        vertical-align: middle;\n",
              "    }\n",
              "\n",
              "    .dataframe tbody tr th {\n",
              "        vertical-align: top;\n",
              "    }\n",
              "\n",
              "    .dataframe thead th {\n",
              "        text-align: right;\n",
              "    }\n",
              "</style>\n",
              "<table border=\"1\" class=\"dataframe\">\n",
              "  <thead>\n",
              "    <tr style=\"text-align: right;\">\n",
              "      <th></th>\n",
              "      <th>Kelas</th>\n",
              "      <th>Batas Bawah</th>\n",
              "      <th>Batas Atas</th>\n",
              "      <th>Nilai Tengah</th>\n",
              "    </tr>\n",
              "  </thead>\n",
              "  <tbody>\n",
              "    <tr>\n",
              "      <th>0</th>\n",
              "      <td>U1</td>\n",
              "      <td>1.00</td>\n",
              "      <td>3.25</td>\n",
              "      <td>2.125</td>\n",
              "    </tr>\n",
              "    <tr>\n",
              "      <th>1</th>\n",
              "      <td>U2</td>\n",
              "      <td>3.25</td>\n",
              "      <td>5.50</td>\n",
              "      <td>4.375</td>\n",
              "    </tr>\n",
              "    <tr>\n",
              "      <th>2</th>\n",
              "      <td>U3</td>\n",
              "      <td>5.50</td>\n",
              "      <td>7.75</td>\n",
              "      <td>6.625</td>\n",
              "    </tr>\n",
              "    <tr>\n",
              "      <th>3</th>\n",
              "      <td>U4</td>\n",
              "      <td>7.75</td>\n",
              "      <td>10.00</td>\n",
              "      <td>8.875</td>\n",
              "    </tr>\n",
              "    <tr>\n",
              "      <th>4</th>\n",
              "      <td>U5</td>\n",
              "      <td>10.00</td>\n",
              "      <td>12.25</td>\n",
              "      <td>11.125</td>\n",
              "    </tr>\n",
              "  </tbody>\n",
              "</table>\n",
              "</div>"
            ],
            "text/plain": [
              "  Kelas  Batas Bawah  Batas Atas  Nilai Tengah\n",
              "0    U1         1.00        3.25         2.125\n",
              "1    U2         3.25        5.50         4.375\n",
              "2    U3         5.50        7.75         6.625\n",
              "3    U4         7.75       10.00         8.875\n",
              "4    U5        10.00       12.25        11.125"
            ]
          },
          "metadata": {
            "tags": []
          },
          "execution_count": 7
        }
      ]
    }
  ]
}