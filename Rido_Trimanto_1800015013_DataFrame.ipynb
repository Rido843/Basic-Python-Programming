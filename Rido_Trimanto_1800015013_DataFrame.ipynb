{
  "nbformat": 4,
  "nbformat_minor": 0,
  "metadata": {
    "colab": {
      "name": "Rido Trimanto_1800015013_DataFrame.ipynb",
      "provenance": [],
      "collapsed_sections": [],
      "include_colab_link": true
    },
    "kernelspec": {
      "name": "python3",
      "display_name": "Python 3"
    },
    "language_info": {
      "name": "python"
    }
  },
  "cells": [
    {
      "cell_type": "markdown",
      "metadata": {
        "id": "view-in-github",
        "colab_type": "text"
      },
      "source": [
        "<a href=\"https://colab.research.google.com/github/Rido843/Basic-Python-Programming-for-Data-Science/blob/main/Rido_Trimanto_1800015013_DataFrame.ipynb\" target=\"_parent\"><img src=\"https://colab.research.google.com/assets/colab-badge.svg\" alt=\"Open In Colab\"/></a>"
      ]
    },
    {
      "cell_type": "markdown",
      "metadata": {
        "id": "TQTRIrnnv1d1"
      },
      "source": [
        "## Dataset"
      ]
    },
    {
      "cell_type": "code",
      "metadata": {
        "id": "gjJ-DMXVrOa4"
      },
      "source": [
        "import pandas as pd\n",
        "import numpy as np"
      ],
      "execution_count": null,
      "outputs": []
    },
    {
      "cell_type": "code",
      "metadata": {
        "colab": {
          "base_uri": "https://localhost:8080/",
          "height": 261
        },
        "id": "v1AmW3H0v4js",
        "outputId": "6aee74f7-3fbe-4b65-f22e-e1a7746718dc"
      },
      "source": [
        "df = pd.read_csv(\"https://raw.githubusercontent.com/jokoeliyanto/Kelas-Dasar-Pejuang-Data-2.0/main/Super-Store-Dataset.csv\")\n",
        "df.head() "
      ],
      "execution_count": null,
      "outputs": [
        {
          "output_type": "execute_result",
          "data": {
            "text/html": [
              "<div>\n",
              "<style scoped>\n",
              "    .dataframe tbody tr th:only-of-type {\n",
              "        vertical-align: middle;\n",
              "    }\n",
              "\n",
              "    .dataframe tbody tr th {\n",
              "        vertical-align: top;\n",
              "    }\n",
              "\n",
              "    .dataframe thead th {\n",
              "        text-align: right;\n",
              "    }\n",
              "</style>\n",
              "<table border=\"1\" class=\"dataframe\">\n",
              "  <thead>\n",
              "    <tr style=\"text-align: right;\">\n",
              "      <th></th>\n",
              "      <th>order_id</th>\n",
              "      <th>order_date</th>\n",
              "      <th>customer_id</th>\n",
              "      <th>segment</th>\n",
              "      <th>category</th>\n",
              "      <th>sub_category</th>\n",
              "      <th>sales</th>\n",
              "      <th>quantity</th>\n",
              "      <th>profit</th>\n",
              "    </tr>\n",
              "  </thead>\n",
              "  <tbody>\n",
              "    <tr>\n",
              "      <th>0</th>\n",
              "      <td>CA-2016-152156</td>\n",
              "      <td>11/8/2016</td>\n",
              "      <td>CG-12520</td>\n",
              "      <td>Consumer</td>\n",
              "      <td>Furniture</td>\n",
              "      <td>Bookcases</td>\n",
              "      <td>261.9600</td>\n",
              "      <td>2</td>\n",
              "      <td>41.9136</td>\n",
              "    </tr>\n",
              "    <tr>\n",
              "      <th>1</th>\n",
              "      <td>CA-2016-152156</td>\n",
              "      <td>11/8/2016</td>\n",
              "      <td>CG-12520</td>\n",
              "      <td>Consumer</td>\n",
              "      <td>Furniture</td>\n",
              "      <td>Chairs</td>\n",
              "      <td>731.9400</td>\n",
              "      <td>3</td>\n",
              "      <td>219.5820</td>\n",
              "    </tr>\n",
              "    <tr>\n",
              "      <th>2</th>\n",
              "      <td>CA-2016-138688</td>\n",
              "      <td>6/12/2016</td>\n",
              "      <td>DV-13045</td>\n",
              "      <td>Corporate</td>\n",
              "      <td>Office Supplies</td>\n",
              "      <td>Labels</td>\n",
              "      <td>14.6200</td>\n",
              "      <td>2</td>\n",
              "      <td>6.8714</td>\n",
              "    </tr>\n",
              "    <tr>\n",
              "      <th>3</th>\n",
              "      <td>US-2015-108966</td>\n",
              "      <td>10/11/2015</td>\n",
              "      <td>SO-20335</td>\n",
              "      <td>Consumer</td>\n",
              "      <td>Furniture</td>\n",
              "      <td>Tables</td>\n",
              "      <td>957.5775</td>\n",
              "      <td>5</td>\n",
              "      <td>-383.0310</td>\n",
              "    </tr>\n",
              "    <tr>\n",
              "      <th>4</th>\n",
              "      <td>US-2015-108966</td>\n",
              "      <td>10/11/2015</td>\n",
              "      <td>SO-20335</td>\n",
              "      <td>Consumer</td>\n",
              "      <td>Office Supplies</td>\n",
              "      <td>Storage</td>\n",
              "      <td>22.3680</td>\n",
              "      <td>2</td>\n",
              "      <td>2.5164</td>\n",
              "    </tr>\n",
              "  </tbody>\n",
              "</table>\n",
              "</div>"
            ],
            "text/plain": [
              "         order_id  order_date customer_id  ...     sales quantity    profit\n",
              "0  CA-2016-152156   11/8/2016    CG-12520  ...  261.9600        2   41.9136\n",
              "1  CA-2016-152156   11/8/2016    CG-12520  ...  731.9400        3  219.5820\n",
              "2  CA-2016-138688   6/12/2016    DV-13045  ...   14.6200        2    6.8714\n",
              "3  US-2015-108966  10/11/2015    SO-20335  ...  957.5775        5 -383.0310\n",
              "4  US-2015-108966  10/11/2015    SO-20335  ...   22.3680        2    2.5164\n",
              "\n",
              "[5 rows x 9 columns]"
            ]
          },
          "metadata": {
            "tags": []
          },
          "execution_count": 3
        }
      ]
    },
    {
      "cell_type": "markdown",
      "metadata": {
        "id": "fNJlxji43rIv"
      },
      "source": [
        "## Variabel dataset\n",
        "\n",
        "\n"
      ]
    },
    {
      "cell_type": "markdown",
      "metadata": {
        "id": "yELOC18jK11Q"
      },
      "source": [
        "Variabel-variabel yang terdapat pada dataset ini adalah sebagai berikut:\n",
        "1. **order_id** = Nomor ID pembelian(nota)\n",
        "2. **order_data** = Tanggal pembelian\n",
        "3. **customer_id** = Nomor ID pembeli\n",
        "4. **segment** = Segmen produk \n",
        "5. **category** = Kategori produk\n",
        "6. **sub_category** = Sub kategori produk\n",
        "7. **sales** = Total harga pembelian\n",
        "8. **quantity** = Jumlah produk dibeli\n",
        "9. **profit** = Keuntungan"
      ]
    },
    {
      "cell_type": "markdown",
      "metadata": {
        "id": "Aqo2bJTQK6oS"
      },
      "source": [
        ""
      ]
    },
    {
      "cell_type": "markdown",
      "metadata": {
        "id": "igjm48vdp5SF"
      },
      "source": [
        "#Tugas Individu"
      ]
    },
    {
      "cell_type": "markdown",
      "metadata": {
        "id": "FpTHwIfhS5mF"
      },
      "source": [
        "\n",
        "1. Tentukan Segment mana dengan profit tertinggi!  [30]\n",
        "2. Tentukan Category mana dengan sales terbanyak!  [30]\n",
        "3. Tentukan Sub-Category dengan quantity paling sedikit! [40]\n",
        "\n",
        "\n",
        "\n",
        "\n",
        "\n",
        "4. **Challange Question!!!  Tentukan Bulan dengan Profit Tertinggi!!!** \n",
        "\n",
        "Bonus Nilai 100 di Salah Satu Tugas Lainnya\n"
      ]
    },
    {
      "cell_type": "markdown",
      "metadata": {
        "id": "AicgvOAvrmpj"
      },
      "source": [
        "**1. Segment dengan profit tertinggi**"
      ]
    },
    {
      "cell_type": "code",
      "metadata": {
        "colab": {
          "base_uri": "https://localhost:8080/"
        },
        "id": "Y5dI4t1rroSZ",
        "outputId": "24ea65e3-f386-400e-f57a-65cd53dc4486"
      },
      "source": [
        "#Melihat Segment Apa Saja Yang Ada\n",
        "df.segment.value_counts()"
      ],
      "execution_count": null,
      "outputs": [
        {
          "output_type": "execute_result",
          "data": {
            "text/plain": [
              "Consumer       5188\n",
              "Corporate      3019\n",
              "Home Office    1781\n",
              "Name: segment, dtype: int64"
            ]
          },
          "metadata": {
            "tags": []
          },
          "execution_count": 4
        }
      ]
    },
    {
      "cell_type": "code",
      "metadata": {
        "id": "VHItbJirrtOb"
      },
      "source": [
        "#Memilih masing-masing segmen\n",
        "df_Consumer=df[df['segment']=='Consumer']\n",
        "df_Corporate=df[df['segment']=='Corporate']\n",
        "df_Home_Office=df[df['segment']=='Home Office']"
      ],
      "execution_count": null,
      "outputs": []
    },
    {
      "cell_type": "code",
      "metadata": {
        "colab": {
          "base_uri": "https://localhost:8080/"
        },
        "id": "XX0IgNGpruBE",
        "outputId": "445288bc-b884-4637-a054-de7027590eb5"
      },
      "source": [
        "#menentukan segmen dengan profit terbanyak\n",
        "cons=df_Consumer.profit.sum()\n",
        "corp=df_Corporate.profit.sum()\n",
        "ho=df_Home_Office.profit.sum()\n",
        "if cons>corp>ho:\n",
        "  print(\"Segment dengan profit terbanyak adalah consumer dengan profit\",cons)\n",
        "elif corp>ho:\n",
        "  print(\"segment dengan profit tertinggi adalah Cortporate dengan profit\",corp)\n",
        "else :\n",
        "  print(\"segment dengan profit tertinggi adalah Home ofice dengan profit\",ho)"
      ],
      "execution_count": null,
      "outputs": [
        {
          "output_type": "stream",
          "text": [
            "Segment dengan profit terbanyak adalah consumer dengan profit 128959.22080000001\n"
          ],
          "name": "stdout"
        }
      ]
    },
    {
      "cell_type": "markdown",
      "metadata": {
        "id": "ZMO3k-Pqr3IC"
      },
      "source": [
        "**2. Category dengan sales terbanyak**"
      ]
    },
    {
      "cell_type": "code",
      "metadata": {
        "colab": {
          "base_uri": "https://localhost:8080/"
        },
        "id": "E_6lCu8ZsEls",
        "outputId": "d3efbead-8bc7-42d0-c06a-4b2a16cd99a9"
      },
      "source": [
        "#Melihat Categori Apa Saja Yang Ada\n",
        "df.category.value_counts()"
      ],
      "execution_count": null,
      "outputs": [
        {
          "output_type": "execute_result",
          "data": {
            "text/plain": [
              "Office Supplies    6026\n",
              "Furniture          2121\n",
              "Technology         1841\n",
              "Name: category, dtype: int64"
            ]
          },
          "metadata": {
            "tags": []
          },
          "execution_count": 8
        }
      ]
    },
    {
      "cell_type": "code",
      "metadata": {
        "id": "-8O4IjxbsS5i"
      },
      "source": [
        "#Memilih masing-masing category\n",
        "df_Office_Supplies=df[df['category']=='Office Supplies']\n",
        "df_Furniture=df[df['category']=='Furniture']\n",
        "df_Technology=df[df['category']=='Technology']"
      ],
      "execution_count": null,
      "outputs": []
    },
    {
      "cell_type": "code",
      "metadata": {
        "colab": {
          "base_uri": "https://localhost:8080/"
        },
        "id": "QtDAs-zwsgOE",
        "outputId": "44f98448-3b57-431f-a31c-8a7d652a43e7"
      },
      "source": [
        "office=df_Office_Supplies.sales.sum()\n",
        "furniture=df_Furniture.sales.sum()\n",
        "teknologi=df_Technology.sales.sum()\n",
        "if office>furniture>teknologi:\n",
        "  print(\"Category  dengan Sales terbanyak adalah Office supplies dengan jumlah\",Office_Supplies)\n",
        "elif furniture>teknologi:\n",
        "  print(\"segment dengan profit tertinggi adalah Furniture dengan profit\",furniture)\n",
        "else :\n",
        "  print(\"segment dengan profit tertinggi Technology dengan jumlah\",teknologi)"
      ],
      "execution_count": null,
      "outputs": [
        {
          "output_type": "stream",
          "text": [
            "segment dengan profit tertinggi Technology dengan jumlah 755815.72\n"
          ],
          "name": "stdout"
        }
      ]
    },
    {
      "cell_type": "markdown",
      "metadata": {
        "id": "xCqk9KHMwQ0U"
      },
      "source": [
        "**3. sub Category dengan quantity paling sedikit**"
      ]
    },
    {
      "cell_type": "code",
      "metadata": {
        "colab": {
          "base_uri": "https://localhost:8080/"
        },
        "id": "nZ05DC52wfvm",
        "outputId": "20854295-0dfb-4d9e-d1e0-39b5432453a9"
      },
      "source": [
        "df.sub_category.value_counts()"
      ],
      "execution_count": null,
      "outputs": [
        {
          "output_type": "execute_result",
          "data": {
            "text/plain": [
              "Binders        1523\n",
              "Paper          1370\n",
              "Furnishings     957\n",
              "Phones          889\n",
              "Storage         846\n",
              "Art             796\n",
              "Accessories     775\n",
              "Chairs          617\n",
              "Appliances      466\n",
              "Labels          364\n",
              "Tables          319\n",
              "Envelopes       254\n",
              "Bookcases       228\n",
              "Fasteners       217\n",
              "Supplies        190\n",
              "Machines        113\n",
              "Copiers          64\n",
              "Name: sub_category, dtype: int64"
            ]
          },
          "metadata": {
            "tags": []
          },
          "execution_count": 16
        }
      ]
    },
    {
      "cell_type": "code",
      "metadata": {
        "colab": {
          "base_uri": "https://localhost:8080/"
        },
        "id": "z5GLvCnx1qL5",
        "outputId": "84e370ef-ed40-4d80-9d66-542a73efa366"
      },
      "source": [
        "subCategory=df.groupby('sub_category').quantity.sum()\n",
        "print(subCategory)\n",
        "jumlah=min(subCategory)\n",
        "a= subCategory.idxmin()\n",
        "\n",
        "print(\"-------------------------------------------\")\n",
        "print(\"sub category dengan quantity terkecil adalah\",a ,\"dengan jumlah\",jumlah)"
      ],
      "execution_count": null,
      "outputs": [
        {
          "output_type": "stream",
          "text": [
            "sub_category\n",
            "Accessories    2976\n",
            "Appliances     1729\n",
            "Art            3000\n",
            "Binders        5974\n",
            "Bookcases       868\n",
            "Chairs         2356\n",
            "Copiers         218\n",
            "Envelopes       906\n",
            "Fasteners       914\n",
            "Furnishings    3563\n",
            "Labels         1400\n",
            "Machines        429\n",
            "Paper          5178\n",
            "Phones         3289\n",
            "Storage        3158\n",
            "Supplies        647\n",
            "Tables         1241\n",
            "Name: quantity, dtype: int64\n",
            "-------------------------------------------\n",
            "sub category dengan quantity terkecil adalah Copiers dengan jumlah 218\n"
          ],
          "name": "stdout"
        }
      ]
    },
    {
      "cell_type": "markdown",
      "metadata": {
        "id": "8sBiV3Ab-0g7"
      },
      "source": [
        "**Chalenge**"
      ]
    }
  ]
}